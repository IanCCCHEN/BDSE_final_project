{
 "cells": [
  {
   "cell_type": "code",
   "execution_count": 10,
   "id": "3e25cd44-6651-48e5-b400-db8b2c48610f",
   "metadata": {},
   "outputs": [],
   "source": [
    "import datetime, string\n",
    "\n",
    "earliest = datetime.date(2012,3,2)\n",
    "latest = datetime.date(2013,7,28)\n",
    "\n",
    "# get all categories we are interested in\n",
    "categories = [9115, 9909, 3203, 5558, 4401, 1703, 1726, 3504, 3509, 5122, 5616, 5619, 2202, 2119, 6202, 5824, 799, 4517, 7205, 706]\n",
    "\n",
    "arlen = (latest-earliest).days+1 # 共514天\n",
    "# create array to contain number of customers on each data\n",
    "numcust = [0]*arlen\n",
    "# for each category create same array, and add up for each day seen\n",
    "catspend = {}\n",
    "for c in categories:\n",
    "\tcatspend[c] = [0.]*arlen\n",
    "\n",
    "# go through transactions and look at things\n",
    "with open(\"./data/reduced.csv\",\"r\")as fi:\n",
    "    fi.readline()\n",
    "    last_id = 0\n",
    "    for i,lines in enumerate(fi):\n",
    "        li = lines.strip().split(\",\")\n",
    "        if li[0] != last_id:\n",
    "            if i > 0:\n",
    "                # get last_date and write out days to numcust\n",
    "                initindex = (start_date-earliest).days  \n",
    "                lenindex = (last_date-start_date).days\n",
    "                for i in range(initindex, initindex+lenindex):\n",
    "                    numcust[i] += 1\n",
    "            # initialize new users\n",
    "            start_date = datetime.datetime.strptime(li[6], \"%Y-%m-%d\").date()\n",
    "        last_id = li[0]\n",
    "        last_date = datetime.datetime.strptime(li[6], \"%Y-%m-%d\").date()\n",
    "        \n",
    "        if int(li[3]) in categories:\n",
    "            curindex = (last_date-earliest).days\n",
    "            catspend[int(li[3])][curindex] += float(li[10])\n",
    "        if i % 100000 == 0 and i > 0:\n",
    "            print(i)\n",
    "\n",
    "# save array somewhere\n",
    "with open(\"./seasonal_cat.csv\",\"w\") as of:\n",
    "    of.write(\"date,\"+\",\".join([str(c) for c in categories])+\",num_customers\\n\")\n",
    "    for i in range(arlen):\n",
    "        of.write( (earliest+datetime.timedelta(days=i)).strftime(\"%Y-%m-%d\") )\n",
    "        for c in categories:\n",
    "            if numcust[i] > 0:\n",
    "                of.write(\",\" + str(float(catspend[c][i])/float(numcust[i])) )\n",
    "            else:\n",
    "                of.write(\",0\")\n",
    "        of.write(\",\"+str(numcust[i])+\"\\n\")"
   ]
  },
  {
   "cell_type": "code",
   "execution_count": 1,
   "id": "088133f2-03c8-4333-9e39-c65f19f22aea",
   "metadata": {},
   "outputs": [
    {
     "name": "stdout",
     "output_type": "stream",
     "text": [
      "514\n"
     ]
    }
   ],
   "source": [
    "import datetime\n",
    "earliest = datetime.date(2012,3,2)\n",
    "latest = datetime.date(2013,7,28)\n",
    "\n",
    "arlen = (latest-earliest).days+1\n",
    "print(arlen)"
   ]
  },
  {
   "cell_type": "code",
   "execution_count": null,
   "id": "aee33617-df23-4014-8cb3-42aafece676a",
   "metadata": {},
   "outputs": [],
   "source": []
  }
 ],
 "metadata": {
  "kernelspec": {
   "display_name": "Python 3",
   "language": "python",
   "name": "python3"
  },
  "language_info": {
   "codemirror_mode": {
    "name": "ipython",
    "version": 3
   },
   "file_extension": ".py",
   "mimetype": "text/x-python",
   "name": "python",
   "nbconvert_exporter": "python",
   "pygments_lexer": "ipython3",
   "version": "3.8.8"
  }
 },
 "nbformat": 4,
 "nbformat_minor": 5
}
