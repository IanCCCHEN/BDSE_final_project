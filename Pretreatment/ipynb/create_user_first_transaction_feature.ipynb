{
 "cells": [
  {
   "cell_type": "code",
   "execution_count": 1,
   "id": "8f5b8feb-9fdb-477f-a093-03c438e6d74b",
   "metadata": {},
   "outputs": [],
   "source": [
    "# create features on time since first transaction 取得優惠券後第一次購買的時間\n",
    "import string,datetime, os\n",
    "\n",
    "testset = False\n",
    "if testset:\n",
    "\tfolder = \"./test/\"\n",
    "\thistory = \"./data/testHistory.csv\"\n",
    "else:\n",
    "\tfolder = \"./train/\"\n",
    "\thistory = \"./data/trainHistory.csv\"\n",
    "\n",
    "user_dates = {}\n",
    "with open(\"./data/user_dates.csv\",\"r\")as fi:\n",
    "    fi.readline()\n",
    "    for lines in fi:\n",
    "        li = lines.strip().split(\",\")\n",
    "        startdate = datetime.datetime.strptime(li[1],\"%Y-%m-%d\").date() # /?\n",
    "        #enddate = datetime.datetime.strptime(li[2],\"%Y/%m/%d\").date()\n",
    "        user_dates[li[0]] = startdate # 將過去消費記錄各消費者第一次消費的日期作為字典\n",
    "\n",
    "with open(history, \"r\")as fi:\n",
    "    fi.readline()\n",
    "    with open(os.path.join(folder, \"first_transaction_features.csv\"),\"w\")as of: \n",
    "        of.write(\"id,days_since_first_transaction\\n\")\n",
    "        for lines in fi:\n",
    "            li = lines.strip().split(\",\")\n",
    "            uid = li[0]\n",
    "            if testset:\n",
    "                offerdate = datetime.datetime.strptime(li[4],\"%Y/%m/%d\").date()  \n",
    "            else:\n",
    "                offerdate = datetime.datetime.strptime(li[6],\"%Y/%m/%d\").date()  \n",
    "            days_since_first = (offerdate-user_dates[uid]).days # 取得優惠券後與第一次消費日期間隔天數\n",
    "            of.write(uid+\",\"+str(days_since_first)+\"\\n\")"
   ]
  },
  {
   "cell_type": "code",
   "execution_count": null,
   "id": "f571be9f-c8f5-42a6-9ed9-addedb170df6",
   "metadata": {},
   "outputs": [],
   "source": []
  }
 ],
 "metadata": {
  "kernelspec": {
   "display_name": "Python 3",
   "language": "python",
   "name": "python3"
  },
  "language_info": {
   "codemirror_mode": {
    "name": "ipython",
    "version": 3
   },
   "file_extension": ".py",
   "mimetype": "text/x-python",
   "name": "python",
   "nbconvert_exporter": "python",
   "pygments_lexer": "ipython3",
   "version": "3.8.8"
  }
 },
 "nbformat": 4,
 "nbformat_minor": 5
}
