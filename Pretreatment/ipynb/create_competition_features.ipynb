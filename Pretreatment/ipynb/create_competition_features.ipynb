{
 "cells": [
  {
   "cell_type": "code",
   "execution_count": 1,
   "id": "a1822ae4",
   "metadata": {},
   "outputs": [
    {
     "name": "stdout",
     "output_type": "stream",
     "text": [
      "執行時間：49.118836 秒\n"
     ]
    }
   ],
   "source": [
    "# competition features\n",
    "# 找出offers裡面商品的競爭家數以及no1的市佔率\n",
    "\n",
    "import string, os, time\n",
    "\n",
    "# 開始測量\n",
    "start = time.time()\n",
    "\n",
    "testset = False\n",
    "if testset:\n",
    "    folder = \"../test/\"\n",
    "else:\n",
    "    folder = \"../train/\"\n",
    "#offers.csv裡面的categories\n",
    "categories = [\"706\", \"799\", \"1703\", \"1726\", \"2119\", \"2202\", \"3203\", \"3504\", \"3509\", \"4401\", \"4517\", \"5122\", \"5558\", \"5616\", \"5619\", \"5824\", \"6202\", \"7205\", \"9115\", \"9909\"]\n",
    "\n",
    "productspend_in_cat = {}\n",
    "for c in categories:\n",
    "    productspend_in_cat[c] = {}\n",
    "\n",
    "#\n",
    "with open(\"../data/reduced.csv\",\"r\") as fi: #catergory或company之後會有優惠的購物紀錄\n",
    "    for lines in fi:\n",
    "        li = lines.strip().split(\",\")\n",
    "        # 找出有優惠券的類別，列出全部company跟brand\n",
    "        if li[3] in categories:\n",
    "            productid = \",\".join(list(li[3:6]))\n",
    "\n",
    "            if not productid in productspend_in_cat[li[3]]:\n",
    "                productspend_in_cat[li[3]][productid] = 0.0\n",
    "            # 計算礦泉水 不同品牌，全消費者購買的總額\n",
    "            productspend_in_cat[li[3]][productid] += float(li[10])\n",
    "\n",
    "category_dom_marketshare = {}\n",
    "category_prod_count = {}\n",
    "\n",
    "for c in categories:\n",
    "    #計算礦泉水總消費金額\n",
    "\tcatsum = sum(productspend_in_cat[c].values())\n",
    "    #計算礦泉水中 ，品牌消費比例,找出市佔no1\n",
    "\tcat_marketshares = []\n",
    "\tfor pid in productspend_in_cat[c]:\n",
    "\t\tcat_marketshares.append(productspend_in_cat[c][pid]/catsum)\n",
    "\tcategory_dom_marketshare[c] = max(cat_marketshares)\n",
    "    #品牌數量\n",
    "\tcategory_prod_count[c] = len(productspend_in_cat[c])\n",
    "\n",
    "with open( os.path.join(folder, \"competition_features.csv\"),\"w\") as of:\n",
    "    of.write( \"categoryid,competing_products_in_cat,marketshare_dominant_prod_in_cat\\n\" )\n",
    "    for c in categories:\n",
    "        of.write(c+\",\"+str(category_prod_count[c])+\",\"+str(category_dom_marketshare[c])+\"\\n\")\n",
    "\n",
    "# 結束測量\n",
    "end = time.time()\n",
    "\n",
    "# 輸出結果\n",
    "print(\"執行時間：%f 秒\" % (end - start))"
   ]
  },
  {
   "cell_type": "code",
   "execution_count": null,
   "id": "34311232",
   "metadata": {},
   "outputs": [],
   "source": []
  }
 ],
 "metadata": {
  "kernelspec": {
   "display_name": "Python 3",
   "language": "python",
   "name": "python3"
  },
  "language_info": {
   "codemirror_mode": {
    "name": "ipython",
    "version": 3
   },
   "file_extension": ".py",
   "mimetype": "text/x-python",
   "name": "python",
   "nbconvert_exporter": "python",
   "pygments_lexer": "ipython3",
   "version": "3.8.10"
  }
 },
 "nbformat": 4,
 "nbformat_minor": 5
}
