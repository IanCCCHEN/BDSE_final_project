{
 "cells": [
  {
   "cell_type": "code",
   "execution_count": 1,
   "id": "eaeb0b2d-79cd-43e9-8ad9-ce74191b9087",
   "metadata": {},
   "outputs": [
    {
     "name": "stdout",
     "output_type": "stream",
     "text": [
      "100000\n",
      "200000\n",
      "300000\n",
      "400000\n",
      "500000\n",
      "600000\n",
      "700000\n",
      "800000\n",
      "900000\n"
     ]
    }
   ],
   "source": [
    "# get first and last date of all users 從消費紀錄中取得第一次級最近一次消費日期\n",
    "\n",
    "with open(\"./user_dates.csv\",\"w\") as of:\n",
    "    of.write(\"id,first_date,last_date\\n\")\n",
    "\n",
    "    with open(\"./t1/part_1.csv\",\"r\") as fi:\n",
    "        fi.readline()\n",
    "        li = fi.readline().strip().split(\",\")\n",
    "        lastid = li[0]\n",
    "        startdate = li[6]\n",
    "        prevdate = li[6]\n",
    "\n",
    "        for i,lines in enumerate(fi):\n",
    "            li = lines.strip().split(\",\")\n",
    "            if not lastid == li[0]:\n",
    "                # write out\n",
    "                of.write(lastid+\",\"+startdate+\",\"+prevdate+\"\\n\")\n",
    "                # initalize new\n",
    "                startdate = li[6]\n",
    "            prevdate = li[6]\n",
    "            lastid = li[0]\n",
    "            if i % 100000 == 0 and i > 0:  # ?\n",
    "                print(i)\n",
    "        # last entry \n",
    "        of.write(lastid+\",\"+startdate+\",\"+prevdate+\"\\n\")"
   ]
  },
  {
   "cell_type": "code",
   "execution_count": null,
   "id": "c557b633-af4c-4dfc-b17e-1633ffd508f4",
   "metadata": {},
   "outputs": [],
   "source": []
  }
 ],
 "metadata": {
  "kernelspec": {
   "display_name": "Python 3",
   "language": "python",
   "name": "python3"
  },
  "language_info": {
   "codemirror_mode": {
    "name": "ipython",
    "version": 3
   },
   "file_extension": ".py",
   "mimetype": "text/x-python",
   "name": "python",
   "nbconvert_exporter": "python",
   "pygments_lexer": "ipython3",
   "version": "3.8.8"
  }
 },
 "nbformat": 4,
 "nbformat_minor": 5
}
