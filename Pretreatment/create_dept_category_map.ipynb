{
 "cells": [
  {
   "cell_type": "code",
   "execution_count": 1,
   "id": "37d8d0db",
   "metadata": {},
   "outputs": [
    {
     "name": "stdout",
     "output_type": "stream",
     "text": [
      "100000\n",
      "200000\n"
     ]
    }
   ],
   "source": [
    "#製作catergory-dept對照表\n",
    "import csv\n",
    "\n",
    "with open(\"./data/part_2.csv\",\"r\") as fi:\n",
    "    cat_dept_map = {}\n",
    "    index = 0\n",
    "    for lines in fi:\n",
    "        index += 1\n",
    "        li = lines.strip().split(\",\")\n",
    "        cat_dept_map[li[3]] = li[2]\n",
    "        if index % 100000 == 0:\n",
    "            print (index)\n",
    "\n",
    "with open(\"./data/cat_dept_map.csv\",\"w\",newline='') as of:\n",
    "    writer=csv.writer(of)\n",
    "    writer.writerow(['catergory','dept'])\n",
    "    for k,v in cat_dept_map.items():\n",
    "        writer.writerow([k,v])"
   ]
  },
  {
   "cell_type": "code",
   "execution_count": null,
   "id": "dd452fe1",
   "metadata": {},
   "outputs": [],
   "source": []
  }
 ],
 "metadata": {
  "kernelspec": {
   "display_name": "Python 3",
   "language": "python",
   "name": "python3"
  },
  "language_info": {
   "codemirror_mode": {
    "name": "ipython",
    "version": 3
   },
   "file_extension": ".py",
   "mimetype": "text/x-python",
   "name": "python",
   "nbconvert_exporter": "python",
   "pygments_lexer": "ipython3",
   "version": "3.8.10"
  }
 },
 "nbformat": 4,
 "nbformat_minor": 5
}
