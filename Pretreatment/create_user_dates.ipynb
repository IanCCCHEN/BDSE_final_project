{
 "cells": [
  {
   "cell_type": "code",
   "execution_count": 1,
   "id": "b2580276",
   "metadata": {},
   "outputs": [
    {
     "name": "stdout",
     "output_type": "stream",
     "text": [
      "100000\n"
     ]
    }
   ],
   "source": [
    "# get first and last date of all users\n",
    "\n",
    "of = open(\"./data/user_dates.csv\",\"w\")\n",
    "of.write(\"id,first_date,last_date\\n\")\n",
    "\n",
    "fi = open(\"./data/part_2.csv\",\"r\")\n",
    "fi.readline()\n",
    "li = fi.readline().strip().split(\",\")\n",
    "lastid = li[0]\n",
    "startdate = li[6]\n",
    "prevdate = li[6]\n",
    "for i,lines in enumerate(fi):\n",
    "\tli = lines.strip().split(\",\")\n",
    "\tif not lastid == li[0]:\n",
    "\t\t# write out\n",
    "\t\tof.write(lastid+\",\"+startdate+\",\"+prevdate+\"\\n\")\n",
    "\t\t# initalize new\n",
    "\t\tstartdate = li[6]\n",
    "\tprevdate = li[6]\n",
    "\tlastid = li[0]\n",
    "\tif i % 100000 == 0 and i > 0:\n",
    "\t\tprint(i)\n",
    "# last entry\n",
    "of.write(lastid+\",\"+startdate+\",\"+prevdate+\"\\n\")\n",
    "fi.close()\n",
    "of.close()"
   ]
  },
  {
   "cell_type": "code",
   "execution_count": null,
   "id": "e22d552a",
   "metadata": {},
   "outputs": [],
   "source": []
  }
 ],
 "metadata": {
  "kernelspec": {
   "display_name": "Python 3",
   "language": "python",
   "name": "python3"
  },
  "language_info": {
   "codemirror_mode": {
    "name": "ipython",
    "version": 3
   },
   "file_extension": ".py",
   "mimetype": "text/x-python",
   "name": "python",
   "nbconvert_exporter": "python",
   "pygments_lexer": "ipython3",
   "version": "3.8.10"
  }
 },
 "nbformat": 4,
 "nbformat_minor": 5
}
