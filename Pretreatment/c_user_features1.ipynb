{
 "cells": [
  {
   "cell_type": "code",
   "execution_count": null,
   "id": "640b218b-78d3-4a59-823a-fbb9912fcc69",
   "metadata": {},
   "outputs": [
    {
     "name": "stdout",
     "output_type": "stream",
     "text": [
      "100000\n",
      "200000\n",
      "300000\n",
      "400000\n",
      "500000\n",
      "600000\n",
      "700000\n",
      "800000\n",
      "900000\n",
      "> \u001b[1;32m<ipython-input-1-2a4573f84b78>\u001b[0m(161)\u001b[0;36mgenerate_features\u001b[1;34m()\u001b[0m\n",
      "\u001b[1;32m    159 \u001b[1;33m        \u001b[1;32mif\u001b[0m \u001b[0mlen\u001b[0m\u001b[1;33m(\u001b[0m\u001b[0munseen_ids\u001b[0m\u001b[1;33m)\u001b[0m \u001b[1;33m>\u001b[0m \u001b[1;36m0\u001b[0m\u001b[1;33m:\u001b[0m\u001b[1;33m\u001b[0m\u001b[1;33m\u001b[0m\u001b[0m\n",
      "\u001b[0m\u001b[1;32m    160 \u001b[1;33m                \u001b[1;32mimport\u001b[0m \u001b[0mpdb\u001b[0m\u001b[1;33m;\u001b[0m\u001b[0mpdb\u001b[0m\u001b[1;33m.\u001b[0m\u001b[0mset_trace\u001b[0m\u001b[1;33m(\u001b[0m\u001b[1;33m)\u001b[0m\u001b[1;33m\u001b[0m\u001b[1;33m\u001b[0m\u001b[0m\n",
      "\u001b[0m\u001b[1;32m--> 161 \u001b[1;33m        \u001b[1;32mfor\u001b[0m \u001b[0mui\u001b[0m \u001b[1;32min\u001b[0m \u001b[0munseen_ids\u001b[0m\u001b[1;33m:\u001b[0m\u001b[1;33m\u001b[0m\u001b[1;33m\u001b[0m\u001b[0m\n",
      "\u001b[0m\u001b[1;32m    162 \u001b[1;33m                \u001b[0moutline\u001b[0m \u001b[1;33m=\u001b[0m \u001b[0mstr\u001b[0m\u001b[1;33m(\u001b[0m\u001b[0mui\u001b[0m\u001b[1;33m)\u001b[0m\u001b[1;33m\u001b[0m\u001b[1;33m\u001b[0m\u001b[0m\n",
      "\u001b[0m\u001b[1;32m    163 \u001b[1;33m                \u001b[0moutline\u001b[0m \u001b[1;33m+=\u001b[0m \u001b[1;34m\"0,0,0,0,0,0,0,0\\n\"\u001b[0m\u001b[1;33m\u001b[0m\u001b[1;33m\u001b[0m\u001b[0m\n",
      "\u001b[0m\n"
     ]
    },
    {
     "name": "stdin",
     "output_type": "stream",
     "text": [
      "ipdb>  r\n"
     ]
    },
    {
     "name": "stdout",
     "output_type": "stream",
     "text": [
      "--Return--\n",
      "None\n",
      "> \u001b[1;32m<ipython-input-1-2a4573f84b78>\u001b[0m(164)\u001b[0;36mgenerate_features\u001b[1;34m()\u001b[0m\n",
      "\u001b[1;32m    162 \u001b[1;33m                \u001b[0moutline\u001b[0m \u001b[1;33m=\u001b[0m \u001b[0mstr\u001b[0m\u001b[1;33m(\u001b[0m\u001b[0mui\u001b[0m\u001b[1;33m)\u001b[0m\u001b[1;33m\u001b[0m\u001b[1;33m\u001b[0m\u001b[0m\n",
      "\u001b[0m\u001b[1;32m    163 \u001b[1;33m                \u001b[0moutline\u001b[0m \u001b[1;33m+=\u001b[0m \u001b[1;34m\"0,0,0,0,0,0,0,0\\n\"\u001b[0m\u001b[1;33m\u001b[0m\u001b[1;33m\u001b[0m\u001b[0m\n",
      "\u001b[0m\u001b[1;32m--> 164 \u001b[1;33m                \u001b[0mout_train\u001b[0m\u001b[1;33m.\u001b[0m\u001b[0mwrite\u001b[0m\u001b[1;33m(\u001b[0m \u001b[0moutline\u001b[0m \u001b[1;33m)\u001b[0m\u001b[1;33m\u001b[0m\u001b[1;33m\u001b[0m\u001b[0m\n",
      "\u001b[0m\u001b[1;32m    165 \u001b[1;33m\u001b[1;33m\u001b[0m\u001b[0m\n",
      "\u001b[0m\u001b[1;32m    166 \u001b[1;33m\u001b[0mgenerate_features\u001b[0m\u001b[1;33m(\u001b[0m\u001b[0mhistory_file\u001b[0m\u001b[1;33m,\u001b[0m \u001b[0mtransactions_file\u001b[0m\u001b[1;33m,\u001b[0m \u001b[0mout_file\u001b[0m\u001b[1;33m)\u001b[0m\u001b[1;33m\u001b[0m\u001b[1;33m\u001b[0m\u001b[0m\n",
      "\u001b[0m\n"
     ]
    },
    {
     "name": "stdin",
     "output_type": "stream",
     "text": [
      "ipdb>  r\n"
     ]
    },
    {
     "name": "stdout",
     "output_type": "stream",
     "text": [
      "TypeError: a bytes-like object is required, not 'str'\n",
      "> \u001b[1;32m<ipython-input-1-2a4573f84b78>\u001b[0m(166)\u001b[0;36m<module>\u001b[1;34m()\u001b[0m\n",
      "\u001b[1;32m    162 \u001b[1;33m                \u001b[0moutline\u001b[0m \u001b[1;33m=\u001b[0m \u001b[0mstr\u001b[0m\u001b[1;33m(\u001b[0m\u001b[0mui\u001b[0m\u001b[1;33m)\u001b[0m\u001b[1;33m\u001b[0m\u001b[1;33m\u001b[0m\u001b[0m\n",
      "\u001b[0m\u001b[1;32m    163 \u001b[1;33m                \u001b[0moutline\u001b[0m \u001b[1;33m+=\u001b[0m \u001b[1;34m\"0,0,0,0,0,0,0,0\\n\"\u001b[0m\u001b[1;33m\u001b[0m\u001b[1;33m\u001b[0m\u001b[0m\n",
      "\u001b[0m\u001b[1;32m    164 \u001b[1;33m                \u001b[0mout_train\u001b[0m\u001b[1;33m.\u001b[0m\u001b[0mwrite\u001b[0m\u001b[1;33m(\u001b[0m \u001b[0moutline\u001b[0m \u001b[1;33m)\u001b[0m\u001b[1;33m\u001b[0m\u001b[1;33m\u001b[0m\u001b[0m\n",
      "\u001b[0m\u001b[1;32m    165 \u001b[1;33m\u001b[1;33m\u001b[0m\u001b[0m\n",
      "\u001b[0m\u001b[1;32m--> 166 \u001b[1;33m\u001b[0mgenerate_features\u001b[0m\u001b[1;33m(\u001b[0m\u001b[0mhistory_file\u001b[0m\u001b[1;33m,\u001b[0m \u001b[0mtransactions_file\u001b[0m\u001b[1;33m,\u001b[0m \u001b[0mout_file\u001b[0m\u001b[1;33m)\u001b[0m\u001b[1;33m\u001b[0m\u001b[1;33m\u001b[0m\u001b[0m\n",
      "\u001b[0m\n"
     ]
    },
    {
     "name": "stdin",
     "output_type": "stream",
     "text": [
      "ipdb>  r\n"
     ]
    },
    {
     "name": "stdout",
     "output_type": "stream",
     "text": [
      "--Return--\n",
      "None\n",
      "> \u001b[1;32m<ipython-input-1-2a4573f84b78>\u001b[0m(166)\u001b[0;36m<module>\u001b[1;34m()\u001b[0m\n",
      "\u001b[1;32m    162 \u001b[1;33m                \u001b[0moutline\u001b[0m \u001b[1;33m=\u001b[0m \u001b[0mstr\u001b[0m\u001b[1;33m(\u001b[0m\u001b[0mui\u001b[0m\u001b[1;33m)\u001b[0m\u001b[1;33m\u001b[0m\u001b[1;33m\u001b[0m\u001b[0m\n",
      "\u001b[0m\u001b[1;32m    163 \u001b[1;33m                \u001b[0moutline\u001b[0m \u001b[1;33m+=\u001b[0m \u001b[1;34m\"0,0,0,0,0,0,0,0\\n\"\u001b[0m\u001b[1;33m\u001b[0m\u001b[1;33m\u001b[0m\u001b[0m\n",
      "\u001b[0m\u001b[1;32m    164 \u001b[1;33m                \u001b[0mout_train\u001b[0m\u001b[1;33m.\u001b[0m\u001b[0mwrite\u001b[0m\u001b[1;33m(\u001b[0m \u001b[0moutline\u001b[0m \u001b[1;33m)\u001b[0m\u001b[1;33m\u001b[0m\u001b[1;33m\u001b[0m\u001b[0m\n",
      "\u001b[0m\u001b[1;32m    165 \u001b[1;33m\u001b[1;33m\u001b[0m\u001b[0m\n",
      "\u001b[0m\u001b[1;32m--> 166 \u001b[1;33m\u001b[0mgenerate_features\u001b[0m\u001b[1;33m(\u001b[0m\u001b[0mhistory_file\u001b[0m\u001b[1;33m,\u001b[0m \u001b[0mtransactions_file\u001b[0m\u001b[1;33m,\u001b[0m \u001b[0mout_file\u001b[0m\u001b[1;33m)\u001b[0m\u001b[1;33m\u001b[0m\u001b[1;33m\u001b[0m\u001b[0m\n",
      "\u001b[0m\n"
     ]
    },
    {
     "name": "stdin",
     "output_type": "stream",
     "text": [
      "ipdb>  r\n"
     ]
    },
    {
     "name": "stdout",
     "output_type": "stream",
     "text": [
      "\u001b[1;31m    [... skipped 1 hidden frame]\u001b[0m\n",
      "\n",
      "\u001b[1;31m    [... skipped 1 hidden frame]\u001b[0m\n",
      "\n",
      "\u001b[1;31m    [... skipped 1 hidden frame]\u001b[0m\n",
      "\n",
      "\u001b[1;31m    [... skipped 1 hidden frame]\u001b[0m\n",
      "\n",
      "\u001b[1;31m    [... skipped 1 hidden frame]\u001b[0m\n",
      "\n",
      "\u001b[1;31m    [... skipped 1 hidden frame]\u001b[0m\n",
      "\n",
      "\u001b[1;31m    [... skipped 1 hidden frame]\u001b[0m\n",
      "\n",
      "\u001b[1;31m    [... skipped 1 hidden frame]\u001b[0m\n",
      "\n"
     ]
    },
    {
     "ename": "TypeError",
     "evalue": "a bytes-like object is required, not 'str'",
     "output_type": "error",
     "traceback": [
      "\u001b[1;31m---------------------------------------------------------------------------\u001b[0m",
      "\u001b[1;31mTypeError\u001b[0m                                 Traceback (most recent call last)",
      "\u001b[1;32m<ipython-input-1-2a4573f84b78>\u001b[0m in \u001b[0;36m<module>\u001b[1;34m\u001b[0m\n\u001b[0;32m    164\u001b[0m                 \u001b[0mout_train\u001b[0m\u001b[1;33m.\u001b[0m\u001b[0mwrite\u001b[0m\u001b[1;33m(\u001b[0m \u001b[0moutline\u001b[0m \u001b[1;33m)\u001b[0m\u001b[1;33m\u001b[0m\u001b[1;33m\u001b[0m\u001b[0m\n\u001b[0;32m    165\u001b[0m \u001b[1;33m\u001b[0m\u001b[0m\n\u001b[1;32m--> 166\u001b[1;33m \u001b[0mgenerate_features\u001b[0m\u001b[1;33m(\u001b[0m\u001b[0mhistory_file\u001b[0m\u001b[1;33m,\u001b[0m \u001b[0mtransactions_file\u001b[0m\u001b[1;33m,\u001b[0m \u001b[0mout_file\u001b[0m\u001b[1;33m)\u001b[0m\u001b[1;33m\u001b[0m\u001b[1;33m\u001b[0m\u001b[0m\n\u001b[0m",
      "\u001b[1;32m<ipython-input-1-2a4573f84b78>\u001b[0m in \u001b[0;36mgenerate_features\u001b[1;34m(history_file, transactions_file, out_file)\u001b[0m\n\u001b[0;32m    162\u001b[0m                 \u001b[0moutline\u001b[0m \u001b[1;33m=\u001b[0m \u001b[0mstr\u001b[0m\u001b[1;33m(\u001b[0m\u001b[0mui\u001b[0m\u001b[1;33m)\u001b[0m\u001b[1;33m\u001b[0m\u001b[1;33m\u001b[0m\u001b[0m\n\u001b[0;32m    163\u001b[0m                 \u001b[0moutline\u001b[0m \u001b[1;33m+=\u001b[0m \u001b[1;34m\"0,0,0,0,0,0,0,0\\n\"\u001b[0m\u001b[1;33m\u001b[0m\u001b[1;33m\u001b[0m\u001b[0m\n\u001b[1;32m--> 164\u001b[1;33m                 \u001b[0mout_train\u001b[0m\u001b[1;33m.\u001b[0m\u001b[0mwrite\u001b[0m\u001b[1;33m(\u001b[0m \u001b[0moutline\u001b[0m \u001b[1;33m)\u001b[0m\u001b[1;33m\u001b[0m\u001b[1;33m\u001b[0m\u001b[0m\n\u001b[0m\u001b[0;32m    165\u001b[0m \u001b[1;33m\u001b[0m\u001b[0m\n\u001b[0;32m    166\u001b[0m \u001b[0mgenerate_features\u001b[0m\u001b[1;33m(\u001b[0m\u001b[0mhistory_file\u001b[0m\u001b[1;33m,\u001b[0m \u001b[0mtransactions_file\u001b[0m\u001b[1;33m,\u001b[0m \u001b[0mout_file\u001b[0m\u001b[1;33m)\u001b[0m\u001b[1;33m\u001b[0m\u001b[1;33m\u001b[0m\u001b[0m\n",
      "\u001b[1;31mTypeError\u001b[0m: a bytes-like object is required, not 'str'"
     ]
    },
    {
     "name": "stdout",
     "output_type": "stream",
     "text": [
      "\u001b[1;31m    [... skipped 1 hidden frame]\u001b[0m\n",
      "\n",
      "\u001b[1;31m    [... skipped 1 hidden frame]\u001b[0m\n",
      "\n",
      "Internal StopIteration: True\n",
      "> \u001b[1;32mc:\\programdata\\anaconda3\\lib\\site-packages\\ipython\\core\\interactiveshell.py\u001b[0m(3357)\u001b[0;36mrun_ast_nodes\u001b[1;34m()\u001b[0m\n",
      "\u001b[1;32m   3355 \u001b[1;33m                        \u001b[0mcode\u001b[0m \u001b[1;33m=\u001b[0m \u001b[0mcompiler\u001b[0m\u001b[1;33m(\u001b[0m\u001b[0mmod\u001b[0m\u001b[1;33m,\u001b[0m \u001b[0mcell_name\u001b[0m\u001b[1;33m,\u001b[0m \u001b[0mmode\u001b[0m\u001b[1;33m)\u001b[0m\u001b[1;33m\u001b[0m\u001b[1;33m\u001b[0m\u001b[0m\n",
      "\u001b[0m\u001b[1;32m   3356 \u001b[1;33m                        \u001b[0masy\u001b[0m \u001b[1;33m=\u001b[0m \u001b[0mcompare\u001b[0m\u001b[1;33m(\u001b[0m\u001b[0mcode\u001b[0m\u001b[1;33m)\u001b[0m\u001b[1;33m\u001b[0m\u001b[1;33m\u001b[0m\u001b[0m\n",
      "\u001b[0m\u001b[1;32m-> 3357 \u001b[1;33m                    \u001b[1;32mif\u001b[0m \u001b[1;33m(\u001b[0m\u001b[1;32mawait\u001b[0m \u001b[0mself\u001b[0m\u001b[1;33m.\u001b[0m\u001b[0mrun_code\u001b[0m\u001b[1;33m(\u001b[0m\u001b[0mcode\u001b[0m\u001b[1;33m,\u001b[0m \u001b[0mresult\u001b[0m\u001b[1;33m,\u001b[0m  \u001b[0masync_\u001b[0m\u001b[1;33m=\u001b[0m\u001b[0masy\u001b[0m\u001b[1;33m)\u001b[0m\u001b[1;33m)\u001b[0m\u001b[1;33m:\u001b[0m\u001b[1;33m\u001b[0m\u001b[1;33m\u001b[0m\u001b[0m\n",
      "\u001b[0m\u001b[1;32m   3358 \u001b[1;33m                        \u001b[1;32mreturn\u001b[0m \u001b[1;32mTrue\u001b[0m\u001b[1;33m\u001b[0m\u001b[1;33m\u001b[0m\u001b[0m\n",
      "\u001b[0m\u001b[1;32m   3359 \u001b[1;33m\u001b[1;33m\u001b[0m\u001b[0m\n",
      "\u001b[0m\n"
     ]
    },
    {
     "name": "stdin",
     "output_type": "stream",
     "text": [
      "ipdb>  r\n"
     ]
    },
    {
     "name": "stdout",
     "output_type": "stream",
     "text": [
      "Internal StopIteration: True\n",
      "> \u001b[1;32mc:\\programdata\\anaconda3\\lib\\site-packages\\ipython\\core\\interactiveshell.py\u001b[0m(3165)\u001b[0;36mrun_cell_async\u001b[1;34m()\u001b[0m\n",
      "\u001b[1;32m   3163 \u001b[1;33m                    \u001b[0minteractivity\u001b[0m \u001b[1;33m=\u001b[0m \u001b[1;34m'async'\u001b[0m\u001b[1;33m\u001b[0m\u001b[1;33m\u001b[0m\u001b[0m\n",
      "\u001b[0m\u001b[1;32m   3164 \u001b[1;33m\u001b[1;33m\u001b[0m\u001b[0m\n",
      "\u001b[0m\u001b[1;32m-> 3165 \u001b[1;33m                has_raised = await self.run_ast_nodes(code_ast.body, cell_name,\n",
      "\u001b[0m\u001b[1;32m   3166 \u001b[1;33m                       interactivity=interactivity, compiler=compiler, result=result)\n",
      "\u001b[0m\u001b[1;32m   3167 \u001b[1;33m\u001b[1;33m\u001b[0m\u001b[0m\n",
      "\u001b[0m\n"
     ]
    },
    {
     "name": "stdin",
     "output_type": "stream",
     "text": [
      "ipdb>  r\n"
     ]
    },
    {
     "name": "stdout",
     "output_type": "stream",
     "text": [
      "StopIteration: <ExecutionResult object at 29e3da236d0, execution_count=1 error_before_exec=None error_in_exec=a bytes-like object is required, not 'str' info=<ExecutionInfo object at 29e3d9401c0, raw_cell=\"from datetime import datetime, date\n",
      "from collectio..\" store_history=True silent=False shell_futures=True> result=None>\n",
      "> \u001b[1;32mc:\\programdata\\anaconda3\\lib\\site-packages\\ipython\\core\\async_helpers.py\u001b[0m(68)\u001b[0;36m_pseudo_sync_runner\u001b[1;34m()\u001b[0m\n",
      "\u001b[1;32m     66 \u001b[1;33m    \"\"\"\n",
      "\u001b[0m\u001b[1;32m     67 \u001b[1;33m    \u001b[1;32mtry\u001b[0m\u001b[1;33m:\u001b[0m\u001b[1;33m\u001b[0m\u001b[1;33m\u001b[0m\u001b[0m\n",
      "\u001b[0m\u001b[1;32m---> 68 \u001b[1;33m        \u001b[0mcoro\u001b[0m\u001b[1;33m.\u001b[0m\u001b[0msend\u001b[0m\u001b[1;33m(\u001b[0m\u001b[1;32mNone\u001b[0m\u001b[1;33m)\u001b[0m\u001b[1;33m\u001b[0m\u001b[1;33m\u001b[0m\u001b[0m\n",
      "\u001b[0m\u001b[1;32m     69 \u001b[1;33m    \u001b[1;32mexcept\u001b[0m \u001b[0mStopIteration\u001b[0m \u001b[1;32mas\u001b[0m \u001b[0mexc\u001b[0m\u001b[1;33m:\u001b[0m\u001b[1;33m\u001b[0m\u001b[1;33m\u001b[0m\u001b[0m\n",
      "\u001b[0m\u001b[1;32m     70 \u001b[1;33m        \u001b[1;32mreturn\u001b[0m \u001b[0mexc\u001b[0m\u001b[1;33m.\u001b[0m\u001b[0mvalue\u001b[0m\u001b[1;33m\u001b[0m\u001b[1;33m\u001b[0m\u001b[0m\n",
      "\u001b[0m\n"
     ]
    },
    {
     "name": "stdin",
     "output_type": "stream",
     "text": [
      "ipdb>  r\n"
     ]
    },
    {
     "name": "stdout",
     "output_type": "stream",
     "text": [
      "--Return--\n",
      "<ExecutionRes...> result=None>\n",
      "> \u001b[1;32mc:\\programdata\\anaconda3\\lib\\site-packages\\ipython\\core\\async_helpers.py\u001b[0m(70)\u001b[0;36m_pseudo_sync_runner\u001b[1;34m()\u001b[0m\n",
      "\u001b[1;32m     68 \u001b[1;33m        \u001b[0mcoro\u001b[0m\u001b[1;33m.\u001b[0m\u001b[0msend\u001b[0m\u001b[1;33m(\u001b[0m\u001b[1;32mNone\u001b[0m\u001b[1;33m)\u001b[0m\u001b[1;33m\u001b[0m\u001b[1;33m\u001b[0m\u001b[0m\n",
      "\u001b[0m\u001b[1;32m     69 \u001b[1;33m    \u001b[1;32mexcept\u001b[0m \u001b[0mStopIteration\u001b[0m \u001b[1;32mas\u001b[0m \u001b[0mexc\u001b[0m\u001b[1;33m:\u001b[0m\u001b[1;33m\u001b[0m\u001b[1;33m\u001b[0m\u001b[0m\n",
      "\u001b[0m\u001b[1;32m---> 70 \u001b[1;33m        \u001b[1;32mreturn\u001b[0m \u001b[0mexc\u001b[0m\u001b[1;33m.\u001b[0m\u001b[0mvalue\u001b[0m\u001b[1;33m\u001b[0m\u001b[1;33m\u001b[0m\u001b[0m\n",
      "\u001b[0m\u001b[1;32m     71 \u001b[1;33m    \u001b[1;32melse\u001b[0m\u001b[1;33m:\u001b[0m\u001b[1;33m\u001b[0m\u001b[1;33m\u001b[0m\u001b[0m\n",
      "\u001b[0m\u001b[1;32m     72 \u001b[1;33m        \u001b[1;31m# TODO: do not raise but return an execution result with the right info.\u001b[0m\u001b[1;33m\u001b[0m\u001b[1;33m\u001b[0m\u001b[1;33m\u001b[0m\u001b[0m\n",
      "\u001b[0m\n"
     ]
    },
    {
     "name": "stdin",
     "output_type": "stream",
     "text": [
      "ipdb>  r\n"
     ]
    },
    {
     "name": "stdout",
     "output_type": "stream",
     "text": [
      "--Return--\n",
      "<ExecutionRes...> result=None>\n",
      "> \u001b[1;32mc:\\programdata\\anaconda3\\lib\\site-packages\\ipython\\core\\interactiveshell.py\u001b[0m(2940)\u001b[0;36m_run_cell\u001b[1;34m()\u001b[0m\n",
      "\u001b[1;32m   2938 \u001b[1;33m\u001b[1;33m\u001b[0m\u001b[0m\n",
      "\u001b[0m\u001b[1;32m   2939 \u001b[1;33m        \u001b[1;32mtry\u001b[0m\u001b[1;33m:\u001b[0m\u001b[1;33m\u001b[0m\u001b[1;33m\u001b[0m\u001b[0m\n",
      "\u001b[0m\u001b[1;32m-> 2940 \u001b[1;33m            \u001b[1;32mreturn\u001b[0m \u001b[0mrunner\u001b[0m\u001b[1;33m(\u001b[0m\u001b[0mcoro\u001b[0m\u001b[1;33m)\u001b[0m\u001b[1;33m\u001b[0m\u001b[1;33m\u001b[0m\u001b[0m\n",
      "\u001b[0m\u001b[1;32m   2941 \u001b[1;33m        \u001b[1;32mexcept\u001b[0m \u001b[0mBaseException\u001b[0m \u001b[1;32mas\u001b[0m \u001b[0me\u001b[0m\u001b[1;33m:\u001b[0m\u001b[1;33m\u001b[0m\u001b[1;33m\u001b[0m\u001b[0m\n",
      "\u001b[0m\u001b[1;32m   2942 \u001b[1;33m            \u001b[0minfo\u001b[0m \u001b[1;33m=\u001b[0m \u001b[0mExecutionInfo\u001b[0m\u001b[1;33m(\u001b[0m\u001b[0mraw_cell\u001b[0m\u001b[1;33m,\u001b[0m \u001b[0mstore_history\u001b[0m\u001b[1;33m,\u001b[0m \u001b[0msilent\u001b[0m\u001b[1;33m,\u001b[0m \u001b[0mshell_futures\u001b[0m\u001b[1;33m)\u001b[0m\u001b[1;33m\u001b[0m\u001b[1;33m\u001b[0m\u001b[0m\n",
      "\u001b[0m\n"
     ]
    },
    {
     "name": "stdin",
     "output_type": "stream",
     "text": [
      "ipdb>  r\n"
     ]
    },
    {
     "name": "stdout",
     "output_type": "stream",
     "text": [
      "> \u001b[1;32mc:\\programdata\\anaconda3\\lib\\site-packages\\ipython\\core\\interactiveshell.py\u001b[0m(2897)\u001b[0;36mrun_cell\u001b[1;34m()\u001b[0m\n",
      "\u001b[1;32m   2895 \u001b[1;33m                raw_cell, store_history, silent, shell_futures)\n",
      "\u001b[0m\u001b[1;32m   2896 \u001b[1;33m        \u001b[1;32mfinally\u001b[0m\u001b[1;33m:\u001b[0m\u001b[1;33m\u001b[0m\u001b[1;33m\u001b[0m\u001b[0m\n",
      "\u001b[0m\u001b[1;32m-> 2897 \u001b[1;33m            \u001b[0mself\u001b[0m\u001b[1;33m.\u001b[0m\u001b[0mevents\u001b[0m\u001b[1;33m.\u001b[0m\u001b[0mtrigger\u001b[0m\u001b[1;33m(\u001b[0m\u001b[1;34m'post_execute'\u001b[0m\u001b[1;33m)\u001b[0m\u001b[1;33m\u001b[0m\u001b[1;33m\u001b[0m\u001b[0m\n",
      "\u001b[0m\u001b[1;32m   2898 \u001b[1;33m            \u001b[1;32mif\u001b[0m \u001b[1;32mnot\u001b[0m \u001b[0msilent\u001b[0m\u001b[1;33m:\u001b[0m\u001b[1;33m\u001b[0m\u001b[1;33m\u001b[0m\u001b[0m\n",
      "\u001b[0m\u001b[1;32m   2899 \u001b[1;33m                \u001b[0mself\u001b[0m\u001b[1;33m.\u001b[0m\u001b[0mevents\u001b[0m\u001b[1;33m.\u001b[0m\u001b[0mtrigger\u001b[0m\u001b[1;33m(\u001b[0m\u001b[1;34m'post_run_cell'\u001b[0m\u001b[1;33m,\u001b[0m \u001b[0mresult\u001b[0m\u001b[1;33m)\u001b[0m\u001b[1;33m\u001b[0m\u001b[1;33m\u001b[0m\u001b[0m\n",
      "\u001b[0m\n"
     ]
    },
    {
     "name": "stdin",
     "output_type": "stream",
     "text": [
      "ipdb>  r\n"
     ]
    },
    {
     "name": "stdout",
     "output_type": "stream",
     "text": [
      "--Return--\n",
      "<ExecutionRes...> result=None>\n",
      "> \u001b[1;32mc:\\programdata\\anaconda3\\lib\\site-packages\\ipython\\core\\interactiveshell.py\u001b[0m(2900)\u001b[0;36mrun_cell\u001b[1;34m()\u001b[0m\n",
      "\u001b[1;32m   2898 \u001b[1;33m            \u001b[1;32mif\u001b[0m \u001b[1;32mnot\u001b[0m \u001b[0msilent\u001b[0m\u001b[1;33m:\u001b[0m\u001b[1;33m\u001b[0m\u001b[1;33m\u001b[0m\u001b[0m\n",
      "\u001b[0m\u001b[1;32m   2899 \u001b[1;33m                \u001b[0mself\u001b[0m\u001b[1;33m.\u001b[0m\u001b[0mevents\u001b[0m\u001b[1;33m.\u001b[0m\u001b[0mtrigger\u001b[0m\u001b[1;33m(\u001b[0m\u001b[1;34m'post_run_cell'\u001b[0m\u001b[1;33m,\u001b[0m \u001b[0mresult\u001b[0m\u001b[1;33m)\u001b[0m\u001b[1;33m\u001b[0m\u001b[1;33m\u001b[0m\u001b[0m\n",
      "\u001b[0m\u001b[1;32m-> 2900 \u001b[1;33m        \u001b[1;32mreturn\u001b[0m \u001b[0mresult\u001b[0m\u001b[1;33m\u001b[0m\u001b[1;33m\u001b[0m\u001b[0m\n",
      "\u001b[0m\u001b[1;32m   2901 \u001b[1;33m\u001b[1;33m\u001b[0m\u001b[0m\n",
      "\u001b[0m\u001b[1;32m   2902 \u001b[1;33m    \u001b[1;32mdef\u001b[0m \u001b[0m_run_cell\u001b[0m\u001b[1;33m(\u001b[0m\u001b[0mself\u001b[0m\u001b[1;33m,\u001b[0m \u001b[0mraw_cell\u001b[0m\u001b[1;33m:\u001b[0m\u001b[0mstr\u001b[0m\u001b[1;33m,\u001b[0m \u001b[0mstore_history\u001b[0m\u001b[1;33m:\u001b[0m\u001b[0mbool\u001b[0m\u001b[1;33m,\u001b[0m \u001b[0msilent\u001b[0m\u001b[1;33m:\u001b[0m\u001b[0mbool\u001b[0m\u001b[1;33m,\u001b[0m \u001b[0mshell_futures\u001b[0m\u001b[1;33m:\u001b[0m\u001b[0mbool\u001b[0m\u001b[1;33m)\u001b[0m\u001b[1;33m:\u001b[0m\u001b[1;33m\u001b[0m\u001b[1;33m\u001b[0m\u001b[0m\n",
      "\u001b[0m\n"
     ]
    }
   ],
   "source": [
    "from datetime import datetime, date\n",
    "from collections import defaultdict\n",
    "import numpy as np\n",
    "import os, string\n",
    "\n",
    "testset = False\n",
    "\n",
    "def diff_days(s1,s2):\n",
    "\tdate_format = \"%Y-%m-%d\"\n",
    "\ta = datetime.strptime(s1, date_format)\n",
    "\tb = datetime.strptime(s2, date_format)\n",
    "\tdelta = b - a\n",
    "\treturn delta.days  # 傳回兩日期天數差\n",
    "#-----------------------------------------------------\n",
    "offers_file = \"./offers.csv\"\n",
    "transactions_file = \"./t1/part_1.csv\"     # transactions.csv \n",
    "if testset:\n",
    "\thistory_file = \"./testHistory.csv\"\n",
    "\tfolder = \"./test/\"\n",
    "else:\n",
    "\thistory_file = \"./trainHistory.csv\"\n",
    "\tfolder = \"./train/\"\n",
    "out_file = os.path.join(folder, \"user_features.csv\")\n",
    "\n",
    "with open(\"./trainHistory.csv\",\"r\")as th:\n",
    "    th.readline()\n",
    "    for i, lines in enumerate(th):\n",
    "        li = lines.strip().split(\",\")\n",
    "        li[-1].replace('-','/')\n",
    "#------------------------------------------------------\n",
    "def generate_features(history_file, transactions_file, out_file):\n",
    "    \n",
    "\t#keep a dictionary with the offerdata\n",
    "\toffers = {}\n",
    "\tfor e, line in enumerate( open(offers_file) ):  # offers.csv\n",
    "\t\trow = line.strip().split(\",\")   \n",
    "\t\toffers[row[0]] = row   # offers[優惠券編號]\n",
    "\n",
    "\t#keep two dictionaries with the shopper id's from train\n",
    "\tids = {}\n",
    "\tfor e, line in enumerate( open(history_file) ):\n",
    "\t\tif e > 0:\n",
    "\t\t\trow = line.strip().split(\",\")\n",
    "\t\t\tids[row[0]] = row   # ids[id]\n",
    "\t\n",
    "\t#get category-dept map\n",
    "\tcat_dept = {}\n",
    "\tdept_cat = {}\n",
    "\tfor e, line in enumerate( open(\"./data/cat_dept_map.csv\",\"r\") ):\n",
    "\t\trow = line.strip().split(\",\")\n",
    "\t\tcat_dept[row[0]] = row[1]  # cat_dept[category] = [dept]\n",
    "\t\tif not row[1] in dept_cat: # 若商品類別不在dept_cat\n",
    "\t\t\tdept_cat[row[1]] = []  \n",
    "\t\tdept_cat[row[1]].append(row[0]) # dept_cat[dept] = {category}\n",
    "\n",
    "\tseen_ids = set([])\n",
    "\tout_train = open(out_file, \"wb\")  \n",
    "\tfeature_list = [\"total_spend_30\",\"dep_spend_30\",\"dep_count_30\",\"visits_30\",\"prodid_spend_30\",\"prodid_count_30\",\"prodid_spend_all\",\"prodid_count_all\",\"prodid_spend_corr\"]\n",
    "\tout_train.write((\"id,\" + \",\".join(feature_list)+\"\\n\").encode())\n",
    "\n",
    "\t# get product marketshares for correcting prodid_spend\n",
    "\tproduct_marketshares = {}\n",
    "\tfi = open( os.path.join(folder, \"product_features.csv\"),\"r\")\n",
    "\tfi.readline()\n",
    "\tfor lines in fi:\n",
    "\t\tli = lines.strip().split(\",\")\n",
    "\t\tproduct_marketshares[li[0]] = float(li[1])\n",
    "\n",
    "\t#iterate through dataset\n",
    "\tlast_id = 0\n",
    "\tfeatures = defaultdict(float)\n",
    "\tdays = [0]*30\n",
    "\tfilt = open(transactions_file, \"rb\")\n",
    "\tfilt.readline()\n",
    "\tfor e, line in enumerate( filt ):\n",
    "\t\t#poor man's csv reader\n",
    "\t\trow = line.decode().strip().split(\",\")\n",
    "\t\t#write away the features when we get to a new shopper id\n",
    "\t\tif last_id != row[0] and e != 0:\n",
    "\t\t\tif last_id in ids:\n",
    "\t\t\t\tfeatures['visits_30'] = np.sum(days)\n",
    "\t\t\t\t\n",
    "\t\t\t\toutline = str(last_id)\n",
    "\t\t\t\tfor l in feature_list:\n",
    "\t\t\t\t\tif l == \"prodid_spend_corr\" and not l in features:\n",
    "\t\t\t\t\t\tprodid = offers[history[2]][1]+\" \"+offers[history[2]][3]+\" \"+offers[history[2]][5]\n",
    "\t\t\t\t\t\toutline += \",-\"+str(100*product_marketshares[prodid])\n",
    "\t\t\t\t\telif l in features:\n",
    "\t\t\t\t\t\toutline += \",\"+str(features[l])\n",
    "\t\t\t\t\telse:\n",
    "\t\t\t\t\t\toutline += \",0\"\n",
    "\t\t\t\t\n",
    "\t\t\t\toutline += \"\\n\"\n",
    "\t\t\t\t\n",
    "\t\t\t\tout_train.write(outline.encode())\n",
    "\t\t\t\tseen_ids.add(last_id)\n",
    "\n",
    "\t\t\t# reset features\n",
    "\t\t\tfeatures = defaultdict(float)\n",
    "\t\t\tdays = [0]*30\n",
    "\t\t\t\n",
    "\t\t#generate features from transaction record\n",
    "\t\tif row[0] in ids:\n",
    "\t\t\thistory = ids[row[0]]\n",
    "\n",
    "\t\t\tdep = cat_dept[offers[ history[2] ][1]]\n",
    "\t\t\tcats = dept_cat[dep]\n",
    "\t\t\t\n",
    "\t\t\tdate_diff_days = diff_days(row[6],history[-1])\n",
    "\t\t\t# get total spend last 30 days\n",
    "\t\t\tif date_diff_days < 30:\n",
    "\t\t\t\tfeatures['total_spend_30'] += float( row[10] ) # 總金額\n",
    "\t\t\t\n",
    "\t\t\t# check how many bought this exact item over last 30 days\n",
    "\t\t\tif offers[history[2]][3] == row[4] and offers[ history[2] ][1] == row[3] and offers[ history[2] ][5] == row[5]:\n",
    "\t\t\t\tif date_diff_days < 30:\n",
    "\t\t\t\t\tfeatures['prodid_spend_30'] += float(row[10]) #總金額\n",
    "\t\t\t\t\tfeatures['prodid_count_30'] += float(row[9])  #購買個數\n",
    "\t\t\t\tfeatures['prodid_spend_all'] += float(row[10])\n",
    "\t\t\t\tfeatures['prodid_spend_corr'] += float(row[10])\n",
    "\t\t\t\tfeatures['prodid_count_all'] += float(row[9])\n",
    "\t\t\t\n",
    "\t\t\t# check if this category is in the dept\n",
    "\t\t\tif row[3] in cats:\n",
    "\t\t\t\tif date_diff_days < 30:\n",
    "\t\t\t\t\tfeatures['dep_count_30'] += float( row[9] )\n",
    "\t\t\t\t\tfeatures['dep_spend_30'] += float( row[10] )\n",
    "\t\t\t\n",
    "\t\t\t# append this day to list of last 30 days\n",
    "\t\t\tif date_diff_days < 30:\n",
    "\t\t\t\tdays[date_diff_days] = 1\n",
    "\n",
    "\t\tlast_id = row[0]\n",
    "\t\tif e % 100000 == 0 and e > 0:\n",
    "\t\t\tprint(e)\n",
    "\n",
    "\t# write out the last entry\n",
    "\tif last_id in ids:\n",
    "\t\tfeatures['visits_30'] = np.sum(days)\n",
    "\t\t\n",
    "\t\toutline = str(last_id)\n",
    "\t\tfor l in feature_list:\n",
    "\t\t\tif l == \"prodid_spend_corr\" and not l in features:\n",
    "\t\t\t\tprodid = offers[history[2]][1]+\" \"+offers[history[2]][3]+\" \"+offers[history[2]][5]\n",
    "\t\t\t\toutline += \",-\"+str(100*product_marketshares[prodid])\n",
    "\t\t\telif l in features:\n",
    "\t\t\t\toutline += \",\"+str(features[l])\n",
    "\t\t\telse:\n",
    "\t\t\t\toutline += \",0\"\n",
    "\t\t\n",
    "\t\toutline += \"\\n\"\n",
    "\t\t\n",
    "\t\tout_train.write( outline )\n",
    "\t\tseen_ids.add(last_id)\n",
    "\n",
    "\t# do stuff for ids without transactions\n",
    "\tallids = set(ids.keys())\n",
    "\tunseen_ids = allids.difference(seen_ids)\n",
    "\tif len(unseen_ids) > 0:\n",
    "\t\timport pdb;pdb.set_trace()\n",
    "\tfor ui in unseen_ids:\n",
    "\t\toutline = str(ui)\n",
    "\t\toutline += \"0,0,0,0,0,0,0,0\\n\"\n",
    "\t\tout_train.write( outline )\n",
    "\n",
    "generate_features(history_file, transactions_file, out_file)"
   ]
  },
  {
   "cell_type": "code",
   "execution_count": null,
   "id": "1f5079dc-a89e-4f7c-a5de-d65a93ec5d11",
   "metadata": {},
   "outputs": [],
   "source": []
  }
 ],
 "metadata": {
  "kernelspec": {
   "display_name": "Python 3",
   "language": "python",
   "name": "python3"
  },
  "language_info": {
   "codemirror_mode": {
    "name": "ipython",
    "version": 3
   },
   "file_extension": ".py",
   "mimetype": "text/x-python",
   "name": "python",
   "nbconvert_exporter": "python",
   "pygments_lexer": "ipython3",
   "version": "3.8.8"
  }
 },
 "nbformat": 4,
 "nbformat_minor": 5
}
