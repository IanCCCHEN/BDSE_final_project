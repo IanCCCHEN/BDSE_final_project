{
 "cells": [
  {
   "cell_type": "code",
   "execution_count": null,
   "id": "60a7ba96-e015-4f21-9dba-595a66041cd3",
   "metadata": {},
   "outputs": [],
   "source": [
    "import csv\n",
    "import os\n",
    "\n",
    "\n",
    "path = 'E:/TestFile/账务明细总表.csv'\n",
    "\n",
    "workspace = 'E:/TestFile/workspace'\n",
    "\n",
    "with open(path, 'r', newline='') as file:\n",
    "    csvreader = csv.reader(file)\n",
    "    a = next(csvreader)\n",
    "    #print(a)\n",
    "    i = j = 0\n",
    "    for row in csvreader:\n",
    "        print(row)\n",
    "        \n",
    "        if i % 1000000 == 0:\n",
    "            j += 1\n",
    "\n",
    "        csv_path = os.path.join(workspace, 'part_{}.csv'.format(j))\n",
    "\n",
    "        print(csv_path)\n",
    "        \n",
    "        if not os.path.exists(os.path.dirname(csv_path)):\n",
    "            os.makedirs(os.path.dirname(csv_path))\n",
    "            with open(csv_path, 'w', newline='') as file:\n",
    "\n",
    "                csvwriter = csv.writer(file)\n",
    "               \n",
    "                csvwriter.writerow(row)\n",
    "            i += 1\n",
    "       \n",
    "        else:\n",
    "            with open(csv_path, 'a', newline='') as file:\n",
    "                csvwriter = csv.writer(file)\n",
    "                csvwriter.writerow(row)\n",
    "            i += 1"
   ]
  }
 ],
 "metadata": {
  "kernelspec": {
   "display_name": "Python 3",
   "language": "python",
   "name": "python3"
  },
  "language_info": {
   "codemirror_mode": {
    "name": "ipython",
    "version": 3
   },
   "file_extension": ".py",
   "mimetype": "text/x-python",
   "name": "python",
   "nbconvert_exporter": "python",
   "pygments_lexer": "ipython3",
   "version": "3.8.8"
  }
 },
 "nbformat": 4,
 "nbformat_minor": 5
}
